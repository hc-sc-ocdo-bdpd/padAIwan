{
 "cells": [
  {
   "cell_type": "code",
   "execution_count": null,
   "id": "f6f63769",
   "metadata": {},
   "outputs": [],
   "source": [
    "\n",
    "import pandas as pd\n",
    "\n",
    "# Load csv file containing test data\n",
    "test_data = pd.read_csv('../datasets/test_dataset.csv')\n",
    "test_data_included = test_data.loc[test_data['label'] == 'Included', 'Title'].tolist()\n",
    "print(f\"Number of included abstracts: {len(test_data_included)}\")\n",
    "\n",
    "# Load original Excel file\n",
    "original_data = pd.read_excel('../datasets/SBIS_Original.xlsx')\n",
    "\n",
    "# Filter original data to keep only abstracts that are in the list of included abstracts\n",
    "filtered_data = original_data[original_data['Title'].isin(test_data_included)]\n",
    "filtered_data.to_excel('../datasets/test_data_included.xlsx', index=False)\n",
    "print(f\"Filtered data saved to '../datasets/test_data_included.xlsx': {len(filtered_data)} rows\")"
   ]
  },
  {
   "cell_type": "code",
   "execution_count": null,
   "id": "7e98eee2",
   "metadata": {},
   "outputs": [],
   "source": []
  }
 ],
 "metadata": {
  "kernelspec": {
   "display_name": ".venv",
   "language": "python",
   "name": "python3"
  },
  "language_info": {
   "codemirror_mode": {
    "name": "ipython",
    "version": 3
   },
   "file_extension": ".py",
   "mimetype": "text/x-python",
   "name": "python",
   "nbconvert_exporter": "python",
   "pygments_lexer": "ipython3",
   "version": "3.12.6"
  }
 },
 "nbformat": 4,
 "nbformat_minor": 5
}
