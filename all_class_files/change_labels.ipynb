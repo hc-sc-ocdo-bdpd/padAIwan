{
 "cells": [
  {
   "cell_type": "markdown",
   "id": "8721d98c",
   "metadata": {},
   "source": [
    "After the first round (include/exclude), the client reviewed misclassifications and agreed with the LLM's decision in some cases. The code below takes the initial train data set and changes the labels from \"Excluded\" to \"Included\" or from \"Included\" to \"Excluded\" based on the feedback received from the client."
   ]
  },
  {
   "cell_type": "code",
   "execution_count": null,
   "id": "001e971c",
   "metadata": {},
   "outputs": [],
   "source": [
    "import pandas as pd\n",
    "\n",
    "# Load train data set\n",
    "train_data = pd.read_csv('outputs/train_dataset.csv')\n",
    "\n",
    "# Load list of files for which labels must be changed\n",
    "labels_to_change = pd.read_csv('outputs/labels_to_change.csv')\n",
    "id_list = labels_to_change['id'].tolist()\n",
    "\n",
    "# For all files whose id is in the list and whose label is 'Excluded', change label to 'Included'.\n",
    "# For all files whose id is in the list and whose label is 'Included', change label to 'Excluded'.\n",
    "mask1 = (train_data['id'].isin(id_list)) & (train_data['label'] == \"Excluded\")\n",
    "mask2 = (train_data['id'].isin(id_list)) & (train_data['label'] == \"Included\")\n",
    "train_data.loc[mask1, 'label'] = \"Included\"\n",
    "train_data.loc[mask2, 'label'] = \"Excluded\"\n",
    "\n",
    "print(f\"Changed {mask1.sum()} labels from 'Excluded' to 'Included'.\")\n",
    "print(f\"Changed {mask2.sum()} labels from 'Included' to 'Excluded'.\")\n"
   ]
  }
 ],
 "metadata": {
  "language_info": {
   "name": "python"
  }
 },
 "nbformat": 4,
 "nbformat_minor": 5
}
