{
 "cells": [
  {
   "cell_type": "markdown",
   "id": "b3cd89af",
   "metadata": {},
   "source": [
    "# Inspect misclassified examples - training split\n",
    "\n",
    "This notebook gathers all misclassified items from the chosen model and split, joins them with their titles and abstracts, displays an interactive table, and writes a clean PDF report for human review.\n",
    "\n",
    "**Steps**\n",
    "\n",
    "1. Set `MODEL_NAME` if it differs from the default.\n",
    "2. Run all cells from top to bottom.\n",
    "3. The PDF will appear in `outputs/<MODEL_NAME>/train/misclassified/misclassified_report.pdf`.\n",
    "\n",
    "The notebook installs *reportlab* automatically if it is not already present."
   ]
  },
  {
   "cell_type": "code",
   "execution_count": 1,
   "id": "67d6be68",
   "metadata": {},
   "outputs": [
    {
     "name": "stdout",
     "output_type": "stream",
     "text": [
      "Libraries ready\n"
     ]
    }
   ],
   "source": [
    "# Cell 1 – Imports and package check\n",
    "import subprocess, sys\n",
    "\n",
    "def pip_install(pkg):\n",
    "    try:\n",
    "        __import__(pkg)\n",
    "    except ImportError:\n",
    "        subprocess.check_call([sys.executable, \"-m\", \"pip\", \"install\", pkg])\n",
    "\n",
    "pip_install(\"reportlab\")\n",
    "\n",
    "import json\n",
    "from pathlib import Path\n",
    "import pandas as pd\n",
    "from reportlab.lib.pagesizes import letter\n",
    "from reportlab.platypus import SimpleDocTemplate, Paragraph, Spacer, PageBreak\n",
    "from reportlab.lib.styles import getSampleStyleSheet, ParagraphStyle\n",
    "print(\"Libraries ready\")"
   ]
  },
  {
   "cell_type": "code",
   "execution_count": 3,
   "id": "8468cd08",
   "metadata": {},
   "outputs": [
    {
     "name": "stdout",
     "output_type": "stream",
     "text": [
      "Misclassified folder: C:\\Users\\MILORTIE\\Git repositories\\padAIwan\\all_class_files\\outputs\\gpt-4.1\\train\\misclassified\n",
      "Dataset file: C:\\Users\\MILORTIE\\Git repositories\\padAIwan\\datasets\\train_dataset.csv\n"
     ]
    }
   ],
   "source": [
    "# Cell 2 – Parameters\n",
    "MODEL_NAME = \"gpt-4.1\"   # change if needed\n",
    "SPLIT = \"train\"          # keep as 'train' for this task\n",
    "\n",
    "base_dir = Path(\"outputs\")\n",
    "misclassified_dir = base_dir / MODEL_NAME / SPLIT / \"misclassified\"\n",
    "\n",
    "DATASET_DIR  = Path.cwd().parent / \"datasets\"  \n",
    "dataset_path = DATASET_DIR / f\"{SPLIT}_dataset.csv\" \n",
    "\n",
    "if not misclassified_dir.exists():\n",
    "    raise FileNotFoundError(f\"Folder not found: {misclassified_dir}\")\n",
    "if not dataset_path.exists():\n",
    "    raise FileNotFoundError(f\"Dataset not found: {dataset_path}\")\n",
    "\n",
    "print(\"Misclassified folder:\", misclassified_dir.resolve())\n",
    "print(\"Dataset file:\", dataset_path.resolve())"
   ]
  },
  {
   "cell_type": "code",
   "execution_count": 6,
   "id": "e3f0c338",
   "metadata": {},
   "outputs": [
    {
     "name": "stdout",
     "output_type": "stream",
     "text": [
      "Loaded misclassified rows: 1\n"
     ]
    }
   ],
   "source": [
    "# Cell 3 – Load misclassified JSON files\n",
    "rows = []\n",
    "for fp in misclassified_dir.glob(\"*.json\"):\n",
    "    with open(fp, encoding=\"utf-8\") as f:\n",
    "        data = json.load(f)\n",
    "\n",
    "    rows.append({\n",
    "        \"id\": fp.stem,\n",
    "        \"ground_truth\": data.get(\"ground_truth\").get(\"domain\"),\n",
    "        \"prediction\": data.get(\"prediction\").get(\"domain\"),\n",
    "        \"rationale\": data.get(\"prediction\").get(\"domain_rationale\")\n",
    "    })\n",
    "\n",
    "mis_df = pd.DataFrame(rows)\n",
    "print(\"Loaded misclassified rows:\", len(mis_df))"
   ]
  },
  {
   "cell_type": "code",
   "execution_count": 8,
   "id": "35bb4a6d",
   "metadata": {},
   "outputs": [
    {
     "data": {
      "text/html": [
       "<div>\n",
       "<style scoped>\n",
       "    .dataframe tbody tr th:only-of-type {\n",
       "        vertical-align: middle;\n",
       "    }\n",
       "\n",
       "    .dataframe tbody tr th {\n",
       "        vertical-align: top;\n",
       "    }\n",
       "\n",
       "    .dataframe thead th {\n",
       "        text-align: right;\n",
       "    }\n",
       "</style>\n",
       "<table border=\"1\" class=\"dataframe\">\n",
       "  <thead>\n",
       "    <tr style=\"text-align: right;\">\n",
       "      <th></th>\n",
       "      <th>id</th>\n",
       "      <th>ground_truth</th>\n",
       "      <th>prediction</th>\n",
       "      <th>rationale</th>\n",
       "      <th>Title</th>\n",
       "      <th>abstract</th>\n",
       "    </tr>\n",
       "  </thead>\n",
       "  <tbody>\n",
       "    <tr>\n",
       "      <th>0</th>\n",
       "      <td>0dec64ae-f6c2-4574-ad0b-52c76f2ca08e</td>\n",
       "      <td>Behavioural</td>\n",
       "      <td>Social</td>\n",
       "      <td>The primary emphasis is on the portrayal and c...</td>\n",
       "      <td>Dining Out: An Analysis of Menu Labelling Mess...</td>\n",
       "      <td>OBJECTIVES/BACKGROUND/ISSUE(S): In recent year...</td>\n",
       "    </tr>\n",
       "  </tbody>\n",
       "</table>\n",
       "</div>"
      ],
      "text/plain": [
       "                                     id ground_truth prediction  \\\n",
       "0  0dec64ae-f6c2-4574-ad0b-52c76f2ca08e  Behavioural     Social   \n",
       "\n",
       "                                           rationale  \\\n",
       "0  The primary emphasis is on the portrayal and c...   \n",
       "\n",
       "                                               Title  \\\n",
       "0  Dining Out: An Analysis of Menu Labelling Mess...   \n",
       "\n",
       "                                            abstract  \n",
       "0  OBJECTIVES/BACKGROUND/ISSUE(S): In recent year...  "
      ]
     },
     "execution_count": 8,
     "metadata": {},
     "output_type": "execute_result"
    }
   ],
   "source": [
    "# Cell 4 – Merge with title and abstract\n",
    "dataset_df = pd.read_csv(dataset_path, usecols=[\"id\", \"Title\", \"abstract\"])\n",
    "report_df = mis_df.merge(dataset_df, on=\"id\", how=\"left\")\n",
    "missing = report_df[\"abstract\"].isna().sum()\n",
    "if missing:\n",
    "    print(f\"Warning, {missing} abstracts missing after merge\")\n",
    "report_df.head()"
   ]
  },
  {
   "cell_type": "code",
   "execution_count": 9,
   "id": "583edf06",
   "metadata": {},
   "outputs": [
    {
     "name": "stdout",
     "output_type": "stream",
     "text": [
      "Interactive display not available: No module named 'ace_tools'\n"
     ]
    }
   ],
   "source": [
    "# Cell 5 – Optional preview in notebook\n",
    "try:\n",
    "    from ace_tools import display_dataframe_to_user\n",
    "    display_dataframe_to_user(\"Misclassified examples\", report_df)\n",
    "except Exception as e:\n",
    "    print(\"Interactive display not available:\", e)"
   ]
  },
  {
   "cell_type": "code",
   "execution_count": 11,
   "id": "19f0fdf6",
   "metadata": {},
   "outputs": [
    {
     "name": "stdout",
     "output_type": "stream",
     "text": [
      "PDF saved to: C:\\Users\\MILORTIE\\Git repositories\\padAIwan\\all_class_files\\outputs\\gpt-4.1\\train\\misclassified\\misclassified_report.pdf\n"
     ]
    }
   ],
   "source": [
    "# Cell 6 – Create PDF report\n",
    "styles = getSampleStyleSheet()\n",
    "normal = styles[\"Normal\"]\n",
    "bold = ParagraphStyle(\"Bold\", parent=normal, fontName=\"Helvetica-Bold\", fontSize=12, spaceAfter=6)\n",
    "\n",
    "output_pdf = misclassified_dir / \"misclassified_report.pdf\"\n",
    "doc = SimpleDocTemplate(str(output_pdf), pagesize=letter,\n",
    "                        leftMargin=40, rightMargin=40, topMargin=40, bottomMargin=40)\n",
    "\n",
    "elements = []\n",
    "for idx, row in report_df.iterrows():\n",
    "    elements.append(Paragraph(f\"Example {idx+1} of {len(report_df)}\", bold))\n",
    "    elements.append(Paragraph(f\"<b>ID:</b> {row['id']}\", normal))\n",
    "    elements.append(Paragraph(f\"<b>Ground truth:</b> {row['ground_truth']}   <b>Prediction:</b> {row['prediction']}\", normal))\n",
    "    elements.append(Paragraph(f\"<b>Rationale:</b> {row['rationale']}\", normal))\n",
    "    elements.append(Spacer(1, 8))\n",
    "    elements.append(Paragraph(f\"<b>Title:</b> {row['Title']}\", normal))\n",
    "    elements.append(Spacer(1, 4))\n",
    "    elements.append(Paragraph(f\"<b>Abstract:</b> {row['abstract']}\", normal))\n",
    "    elements.append(PageBreak())\n",
    "\n",
    "doc.build(elements)\n",
    "print(\"PDF saved to:\", output_pdf.resolve())"
   ]
  },
  {
   "cell_type": "code",
   "execution_count": null,
   "id": "e177c3d1",
   "metadata": {},
   "outputs": [],
   "source": []
  }
 ],
 "metadata": {
  "kernelspec": {
   "display_name": ".venv",
   "language": "python",
   "name": "python3"
  },
  "language_info": {
   "codemirror_mode": {
    "name": "ipython",
    "version": 3
   },
   "file_extension": ".py",
   "mimetype": "text/x-python",
   "name": "python",
   "nbconvert_exporter": "python",
   "pygments_lexer": "ipython3",
   "version": "3.12.6"
  }
 },
 "nbformat": 4,
 "nbformat_minor": 5
}
