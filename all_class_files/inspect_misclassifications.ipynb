{
 "cells": [
  {
   "cell_type": "markdown",
   "id": "b3cd89af",
   "metadata": {},
   "source": [
    "# Inspect misclassified examples - training split\n",
    "\n",
    "This notebook gathers all misclassified items from the chosen model and split, joins them with their titles and abstracts, displays an interactive table, and writes a clean PDF report for human review.\n",
    "\n",
    "**Steps**\n",
    "\n",
    "1. Set `MODEL_NAME` if it differs from the default.\n",
    "2. Run all cells from top to bottom.\n",
    "3. The PDF will appear in `outputs/<MODEL_NAME>/train/misclassified/misclassified_report.pdf`.\n",
    "\n",
    "The notebook installs *reportlab* automatically if it is not already present."
   ]
  },
  {
   "cell_type": "code",
   "execution_count": 1,
   "id": "67d6be68",
   "metadata": {},
   "outputs": [
    {
     "name": "stdout",
     "output_type": "stream",
     "text": [
      "Libraries ready\n"
     ]
    }
   ],
   "source": [
    "# Cell 1 – Imports and package check\n",
    "import subprocess, sys\n",
    "\n",
    "def pip_install(pkg):\n",
    "    try:\n",
    "        __import__(pkg)\n",
    "    except ImportError:\n",
    "        subprocess.check_call([sys.executable, \"-m\", \"pip\", \"install\", pkg])\n",
    "\n",
    "pip_install(\"reportlab\")\n",
    "\n",
    "import json, shutil\n",
    "from pathlib import Path\n",
    "import pandas as pd\n",
    "from reportlab.lib.pagesizes import letter\n",
    "from reportlab.platypus import SimpleDocTemplate, Paragraph, Spacer, PageBreak\n",
    "from reportlab.lib.styles import getSampleStyleSheet, ParagraphStyle\n",
    "print(\"Libraries ready\")"
   ]
  },
  {
   "cell_type": "code",
   "execution_count": 2,
   "id": "8468cd08",
   "metadata": {},
   "outputs": [
    {
     "name": "stdout",
     "output_type": "stream",
     "text": [
      "Dataset file: C:\\Users\\MILORTIE\\Git repositories\\padAIwan\\datasets\\train_dataset.csv\n"
     ]
    }
   ],
   "source": [
    "# Cell 2 – Parameters\n",
    "MODEL_NAME = \"gpt-4.1\"   # change if needed\n",
    "SPLIT = \"train\"          # keep as 'train' for this task\n",
    "\n",
    "base_dir = Path(\"outputs\")\n",
    "predictions_dir = base_dir / MODEL_NAME / SPLIT / \"predictions\"\n",
    "misclassified_dir = base_dir / MODEL_NAME / SPLIT / \"misclassified\"\n",
    "unparsed_dir = base_dir / MODEL_NAME / SPLIT / \"unparsed\"\n",
    "\n",
    "DATASET_DIR  = Path.cwd().parent / \"datasets\"  \n",
    "dataset_path = DATASET_DIR / f\"{SPLIT}_dataset.csv\" \n",
    "\n",
    "if not dataset_path.exists():\n",
    "    raise FileNotFoundError(f\"Dataset not found: {dataset_path}\")\n",
    "if not predictions_dir.exists():\n",
    "    raise FileNotFoundError(f\"Folder not found: {predictions_dir}\")\n",
    "\n",
    "print(\"Dataset file:\", dataset_path.resolve())"
   ]
  },
  {
   "cell_type": "code",
   "execution_count": 3,
   "id": "dc466db3",
   "metadata": {},
   "outputs": [
    {
     "name": "stdout",
     "output_type": "stream",
     "text": [
      "Misclassified folder: C:\\Users\\MILORTIE\\Git repositories\\padAIwan\\all_class_files\\outputs\\gpt-4.1\\train\\misclassified\n"
     ]
    }
   ],
   "source": [
    "# Cell 2.5 - If misclassified folder does not exist, create it\n",
    "\n",
    "if unparsed_dir.exists():\n",
    "    unparsed_files = []\n",
    "    for fp in unparsed_dir.glob(\"*.json\"):\n",
    "        unparsed_files.append(fp.name)\n",
    "\n",
    "if not misclassified_dir.exists():\n",
    "    misclassified_dir.mkdir()\n",
    "    for fp in predictions_dir.glob(\"*.json\"):\n",
    "        with open(fp, encoding=\"utf-8\") as f:\n",
    "            data = json.load(f)\n",
    "        if (data.get(\"ground_truth\").get(\"domain\") != data.get(\"prediction\").get(\"domain\")) and (fp.name not in unparsed_files):\n",
    "            shutil.copy(fp, misclassified_dir / fp.name)\n",
    "\n",
    "print(\"Misclassified folder:\", misclassified_dir.resolve())"
   ]
  },
  {
   "cell_type": "code",
   "execution_count": 4,
   "id": "e3f0c338",
   "metadata": {},
   "outputs": [
    {
     "name": "stdout",
     "output_type": "stream",
     "text": [
      "Loaded misclassified rows: 149\n"
     ]
    }
   ],
   "source": [
    "# Cell 3 – Load misclassified JSON files\n",
    "rows = []\n",
    "for fp in misclassified_dir.glob(\"*.json\"):\n",
    "    with open(fp, encoding=\"utf-8\") as f:\n",
    "        data = json.load(f)\n",
    "\n",
    "    rows.append({\n",
    "        \"id\": fp.stem,\n",
    "        \"ground_truth\": data.get(\"ground_truth\").get(\"domain\"),\n",
    "        \"prediction\": data.get(\"prediction\").get(\"domain\"),\n",
    "        \"rationale\": data.get(\"prediction\").get(\"domain_rationale\")\n",
    "    })\n",
    "\n",
    "mis_df = pd.DataFrame(rows)\n",
    "print(\"Loaded misclassified rows:\", len(mis_df))"
   ]
  },
  {
   "cell_type": "code",
   "execution_count": 5,
   "id": "35bb4a6d",
   "metadata": {},
   "outputs": [
    {
     "data": {
      "text/html": [
       "<div>\n",
       "<style scoped>\n",
       "    .dataframe tbody tr th:only-of-type {\n",
       "        vertical-align: middle;\n",
       "    }\n",
       "\n",
       "    .dataframe tbody tr th {\n",
       "        vertical-align: top;\n",
       "    }\n",
       "\n",
       "    .dataframe thead th {\n",
       "        text-align: right;\n",
       "    }\n",
       "</style>\n",
       "<table border=\"1\" class=\"dataframe\">\n",
       "  <thead>\n",
       "    <tr style=\"text-align: right;\">\n",
       "      <th></th>\n",
       "      <th>id</th>\n",
       "      <th>ground_truth</th>\n",
       "      <th>prediction</th>\n",
       "      <th>rationale</th>\n",
       "      <th>Title</th>\n",
       "      <th>abstract</th>\n",
       "    </tr>\n",
       "  </thead>\n",
       "  <tbody>\n",
       "    <tr>\n",
       "      <th>0</th>\n",
       "      <td>0423fa8b-a657-4ced-9074-7b355368c790</td>\n",
       "      <td>Social</td>\n",
       "      <td>None</td>\n",
       "      <td>None</td>\n",
       "      <td>Examining tobacco use among gender minority yo...</td>\n",
       "      <td>Background/Issue(s) and Objectives\\nAchieving ...</td>\n",
       "    </tr>\n",
       "    <tr>\n",
       "      <th>1</th>\n",
       "      <td>0532012f-fe0c-40f9-bbb4-5303082cbc98</td>\n",
       "      <td>Social</td>\n",
       "      <td>Behavioural</td>\n",
       "      <td>The research investigates \"behaviours, motivat...</td>\n",
       "      <td>Exploratory Focus Group Research on Smoking Ce...</td>\n",
       "      <td>Exploratory Research on Smoking Cessation - Ex...</td>\n",
       "    </tr>\n",
       "    <tr>\n",
       "      <th>2</th>\n",
       "      <td>058e0486-1ed1-4ff4-9556-7310f2b25b0d</td>\n",
       "      <td>Social</td>\n",
       "      <td>Implementation</td>\n",
       "      <td>The primary focus is on assessing and piloting...</td>\n",
       "      <td>Regulatory Decision-Making in Canada: Explorin...</td>\n",
       "      <td>OBJECTIVES/BACKGROUND/ISSUE(S): Regulators aro...</td>\n",
       "    </tr>\n",
       "    <tr>\n",
       "      <th>3</th>\n",
       "      <td>05a86813-b938-434b-bde6-8d05a0bf2697</td>\n",
       "      <td>Social</td>\n",
       "      <td>Implementation</td>\n",
       "      <td>The report \"investigates measures to effective...</td>\n",
       "      <td>Health of Canadians in a changing climate: Adv...</td>\n",
       "      <td>The Climate Change and Innovation Bureau (CCIB...</td>\n",
       "    </tr>\n",
       "    <tr>\n",
       "      <th>4</th>\n",
       "      <td>06672431-d568-4717-89f8-1b2f76d32ad6</td>\n",
       "      <td>Social</td>\n",
       "      <td>Behavioural</td>\n",
       "      <td>The major focus is on «patterns of use», «perc...</td>\n",
       "      <td>Canadian Cannabis Vapig Survey</td>\n",
       "      <td>Canadian Cannabis Vaping Survey Executive Summ...</td>\n",
       "    </tr>\n",
       "  </tbody>\n",
       "</table>\n",
       "</div>"
      ],
      "text/plain": [
       "                                     id ground_truth      prediction  \\\n",
       "0  0423fa8b-a657-4ced-9074-7b355368c790       Social            None   \n",
       "1  0532012f-fe0c-40f9-bbb4-5303082cbc98       Social     Behavioural   \n",
       "2  058e0486-1ed1-4ff4-9556-7310f2b25b0d       Social  Implementation   \n",
       "3  05a86813-b938-434b-bde6-8d05a0bf2697       Social  Implementation   \n",
       "4  06672431-d568-4717-89f8-1b2f76d32ad6       Social     Behavioural   \n",
       "\n",
       "                                           rationale  \\\n",
       "0                                               None   \n",
       "1  The research investigates \"behaviours, motivat...   \n",
       "2  The primary focus is on assessing and piloting...   \n",
       "3  The report \"investigates measures to effective...   \n",
       "4  The major focus is on «patterns of use», «perc...   \n",
       "\n",
       "                                               Title  \\\n",
       "0  Examining tobacco use among gender minority yo...   \n",
       "1  Exploratory Focus Group Research on Smoking Ce...   \n",
       "2  Regulatory Decision-Making in Canada: Explorin...   \n",
       "3  Health of Canadians in a changing climate: Adv...   \n",
       "4                     Canadian Cannabis Vapig Survey   \n",
       "\n",
       "                                            abstract  \n",
       "0  Background/Issue(s) and Objectives\\nAchieving ...  \n",
       "1  Exploratory Research on Smoking Cessation - Ex...  \n",
       "2  OBJECTIVES/BACKGROUND/ISSUE(S): Regulators aro...  \n",
       "3  The Climate Change and Innovation Bureau (CCIB...  \n",
       "4  Canadian Cannabis Vaping Survey Executive Summ...  "
      ]
     },
     "execution_count": 5,
     "metadata": {},
     "output_type": "execute_result"
    }
   ],
   "source": [
    "# Cell 4 – Merge with title and abstract\n",
    "dataset_df = pd.read_csv(dataset_path, usecols=[\"id\", \"Title\", \"abstract\"])\n",
    "report_df = mis_df.merge(dataset_df, on=\"id\", how=\"left\")\n",
    "missing = report_df[\"abstract\"].isna().sum()\n",
    "if missing:\n",
    "    print(f\"Warning, {missing} abstracts missing after merge\")\n",
    "report_df.head()"
   ]
  },
  {
   "cell_type": "code",
   "execution_count": 6,
   "id": "583edf06",
   "metadata": {},
   "outputs": [
    {
     "name": "stdout",
     "output_type": "stream",
     "text": [
      "Interactive display not available: No module named 'ace_tools'\n"
     ]
    }
   ],
   "source": [
    "# Cell 5 – Optional preview in notebook\n",
    "try:\n",
    "    from ace_tools import display_dataframe_to_user\n",
    "    display_dataframe_to_user(\"Misclassified examples\", report_df)\n",
    "except Exception as e:\n",
    "    print(\"Interactive display not available:\", e)"
   ]
  },
  {
   "cell_type": "code",
   "execution_count": null,
   "id": "19f0fdf6",
   "metadata": {},
   "outputs": [],
   "source": [
    "# Cell 6 – Create PDF report\n",
    "styles = getSampleStyleSheet()\n",
    "normal = styles[\"Normal\"]\n",
    "bold = ParagraphStyle(\"Bold\", parent=normal, fontName=\"Helvetica-Bold\", fontSize=12, spaceAfter=6)\n",
    "\n",
    "output_pdf = misclassified_dir / \"misclassified_report.pdf\"\n",
    "doc = SimpleDocTemplate(str(output_pdf), pagesize=letter,\n",
    "                        leftMargin=40, rightMargin=40, topMargin=40, bottomMargin=40)\n",
    "\n",
    "elements = []\n",
    "for idx, row in report_df.iterrows():\n",
    "    try:\n",
    "        elements.append(Paragraph(f\"Example {idx+1} of {len(report_df)}\", bold))\n",
    "        elements.append(Paragraph(f\"<b>ID:</b> {row['id']}\", normal))\n",
    "        elements.append(Paragraph(f\"<b>Ground truth:</b> {row['ground_truth']}   <b>Prediction:</b> {row['prediction']}\", normal))\n",
    "        elements.append(Paragraph(f\"<b>Rationale:</b> {row['rationale']}\", normal))\n",
    "        elements.append(Spacer(1, 8))\n",
    "        elements.append(Paragraph(f\"<b>Title:</b> {row['Title']}\", normal))\n",
    "        elements.append(Spacer(1, 4))\n",
    "        elements.append(Paragraph(f\"<b>Abstract:</b> {row['abstract']}\", normal))\n",
    "        elements.append(PageBreak())\n",
    "    except:\n",
    "        print(\"Error encountered with \", row[\"id\"])\n",
    "        elements.append(PageBreak())\n",
    "        continue\n",
    "\n",
    "doc.build(elements)\n",
    "print(\"PDF saved to:\", output_pdf.resolve())"
   ]
  },
  {
   "cell_type": "code",
   "execution_count": null,
   "id": "e177c3d1",
   "metadata": {},
   "outputs": [],
   "source": []
  }
 ],
 "metadata": {
  "kernelspec": {
   "display_name": ".venv",
   "language": "python",
   "name": "python3"
  },
  "language_info": {
   "codemirror_mode": {
    "name": "ipython",
    "version": 3
   },
   "file_extension": ".py",
   "mimetype": "text/x-python",
   "name": "python",
   "nbconvert_exporter": "python",
   "pygments_lexer": "ipython3",
   "version": "3.12.6"
  }
 },
 "nbformat": 4,
 "nbformat_minor": 5
}
