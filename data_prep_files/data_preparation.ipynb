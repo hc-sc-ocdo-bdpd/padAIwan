{
 "cells": [
  {
   "cell_type": "markdown",
   "id": "20e8db91",
   "metadata": {},
   "source": [
    "# 📦✂️ Literature Screening – Data Preparation  \n",
    "Build balanced train and test sets, store them as CSV files and keep track of each abstract’s origin.  \n",
    "Folder outputs created:  \n",
    "```\n",
    "outputs/  \n",
    "└── datasets/  \n",
    "    ├── train_dataset.csv  \n",
    "    └── test_dataset.csv  \n",
    "```"
   ]
  },
  {
   "cell_type": "code",
   "execution_count": null,
   "id": "e438f34a",
   "metadata": {},
   "outputs": [],
   "source": [
    "# ╔════════════════════════════════════════════════╗\n",
    "# ║ Cell 1 – Imports, paths, reproducibility 🔧📂  ║\n",
    "# ╚════════════════════════════════════════════════╝\n",
    "import os, json, random, re, glob\n",
    "from pathlib import Path\n",
    "from typing import List, Dict\n",
    "\n",
    "import numpy as np\n",
    "import pandas as pd\n",
    "from sklearn.model_selection import train_test_split\n",
    "from tqdm.auto import tqdm\n",
    "\n",
    "SEED = 42\n",
    "random.seed(SEED)\n",
    "np.random.seed(SEED)\n",
    "\n",
    "included_csv  = Path(\"data/SBIS_with_IDs.csv\")\n",
    "included_dir  = Path(\"data/abstracts\")\n",
    "excluded_root = Path(\"data\")\n",
    "outputs_root  = Path(\"outputs/datasets\")\n",
    "outputs_root.mkdir(parents=True, exist_ok=True)"
   ]
  },
  {
   "cell_type": "code",
   "execution_count": null,
   "id": "feeb202b",
   "metadata": {},
   "outputs": [],
   "source": [
    "# ╔════════════════════════════════════════════════╗\n",
    "# ║ Cell 2 – Load Included abstracts ✅📖          ║\n",
    "# ╚════════════════════════════════════════════════╝\n",
    "df_inc = pd.read_csv(included_csv)\n",
    "df_inc[\"abstract\"] = pd.Series(dtype=\"object\")\n",
    "\n",
    "errors = []\n",
    "for idx, row in tqdm(df_inc.iterrows(),\n",
    "                     total=len(df_inc),\n",
    "                     desc=\"Loading Included abstracts\"):\n",
    "    cdo_id = str(row.get(\"CDO_ID\", \"\")).strip()\n",
    "    abs_path = included_dir / f\"{cdo_id}.txt\"\n",
    "    if abs_path.exists():\n",
    "        try:\n",
    "            text = abs_path.read_text(encoding=\"utf-8\").strip()\n",
    "            if len(text) >= 100:\n",
    "                df_inc.at[idx, \"abstract\"] = text\n",
    "            else:\n",
    "                df_inc.at[idx, \"abstract\"] = np.nan  # skip too-short\n",
    "        except Exception as e:\n",
    "            errors.append(f\"{cdo_id}: {e}\")\n",
    "    else:\n",
    "        df_inc.at[idx, \"abstract\"] = np.nan\n",
    "\n",
    "df_inc = df_inc.dropna(subset=[\"abstract\"]).reset_index(drop=True)\n",
    "print(f\"Included abstracts kept: {len(df_inc):,}\")\n",
    "if errors:\n",
    "    print(\"First read error:\", errors[0])\n"
   ]
  },
  {
   "cell_type": "code",
   "execution_count": null,
   "id": "58f85327",
   "metadata": {},
   "outputs": [],
   "source": [
    "# ╔════════════════════════════════════════════════╗\n",
    "# ║ Cell 3 – Build Excluded sample ❌📤           ║\n",
    "# ╚════════════════════════════════════════════════╝\n",
    "# Collect all txt files from yearly folders\n",
    "year_dirs = [excluded_root / f\"{yr}_abstracts\" for yr in range(2016, 2025)]\n",
    "all_exc_files = []\n",
    "for ydir in year_dirs:\n",
    "    all_exc_files.extend(list(ydir.glob(\"*.txt\")))\n",
    "\n",
    "# Filter out very short files immediately\n",
    "all_exc_files = [p for p in all_exc_files if p.stat().st_size >= 100]\n",
    "\n",
    "print(f\"Excluded abstracts available (≥50 bytes): {len(all_exc_files):,}\")\n",
    "\n",
    "# Balance classes 1:1 with Included\n",
    "N = len(df_inc)\n",
    "sampled_files = random.sample(all_exc_files, N)\n",
    "\n",
    "def build_exc_row(i, p: Path) -> Dict:\n",
    "    text = p.read_text(encoding=\"utf-8\").strip()\n",
    "    return {\n",
    "        \"id\"       : f\"EXC_{i:05d}_{p.stem}\",  # clearer unique ID\n",
    "        \"title\"    : \"Title in Abstract\",\n",
    "        \"abstract\" : text,\n",
    "        \"label\"    : \"Excluded\",\n",
    "        \"src_path\" : str(p)\n",
    "    }\n",
    "\n",
    "df_exc = pd.DataFrame([build_exc_row(i, p) for i, p in enumerate(sampled_files)])\n",
    "print(f\"Sampled Excluded abstracts: {len(df_exc):,}\")\n"
   ]
  },
  {
   "cell_type": "code",
   "execution_count": null,
   "id": "a7a8d15d",
   "metadata": {},
   "outputs": [],
   "source": [
    "# ╔════════════════════════════════════════════════╗\n",
    "# ║ Cell 4 – Combine, shuffle, train/test split 🔀 ║\n",
    "# ╚════════════════════════════════════════════════╝\n",
    "df_inc_eval = pd.DataFrame({\n",
    "    \"id\"       : df_inc[\"CDO_ID\"].astype(str),\n",
    "    \"title\"    : df_inc[\"Title\"],\n",
    "    \"abstract\" : df_inc[\"abstract\"],\n",
    "    \"label\"    : \"Included\",\n",
    "    \"src_path\" : str(included_dir / \"\")  # placeholder\n",
    "})\n",
    "\n",
    "df_all = (pd.concat([df_inc_eval, df_exc], ignore_index=True)\n",
    "            .sample(frac=1, random_state=SEED)\n",
    "            .reset_index(drop=True))\n",
    "\n",
    "train_df, test_df = train_test_split(\n",
    "    df_all, test_size=0.20, stratify=df_all[\"label\"], random_state=SEED\n",
    ")\n",
    "\n",
    "print(f\"Train size: {len(train_df):,}, Test size: {len(test_df):,}\")\n"
   ]
  },
  {
   "cell_type": "code",
   "execution_count": null,
   "id": "d31513ce",
   "metadata": {},
   "outputs": [],
   "source": [
    "# ╔════════════════════════════════════════════════╗\n",
    "# ║ Cell 5 – Save CSV snapshots 💾                ║\n",
    "# ╚════════════════════════════════════════════════╝\n",
    "train_path = outputs_root / \"train_dataset.csv\"\n",
    "test_path  = outputs_root / \"test_dataset.csv\"\n",
    "\n",
    "train_df.to_csv(train_path, index=False)\n",
    "test_df.to_csv(test_path,  index=False)\n",
    "\n",
    "print(\"CSV files written:\")\n",
    "print(\" -\", train_path.resolve())\n",
    "print(\" -\", test_path.resolve())\n"
   ]
  },
  {
   "cell_type": "markdown",
   "id": "f52ecb58",
   "metadata": {},
   "source": [
    "## ✔️ Data preparation finished  \n",
    "The remaining notebooks can now read directly from  \n",
    "`outputs/datasets/train_dataset.csv` and `outputs/datasets/test_dataset.csv`,  \n",
    "removing the need to re-read every txt file each run."
   ]
  }
 ],
 "metadata": {
  "kernelspec": {
   "display_name": ".venv",
   "language": "python",
   "name": "python3"
  },
  "language_info": {
   "codemirror_mode": {
    "name": "ipython",
    "version": 3
   },
   "file_extension": ".py",
   "mimetype": "text/x-python",
   "name": "python",
   "nbconvert_exporter": "python",
   "pygments_lexer": "ipython3",
   "version": "3.10.4"
  }
 },
 "nbformat": 4,
 "nbformat_minor": 5
}
