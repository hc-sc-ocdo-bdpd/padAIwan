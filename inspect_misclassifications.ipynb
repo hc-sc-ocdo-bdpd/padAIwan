{
 "cells": [
  {
   "cell_type": "markdown",
   "id": "b3cd89af",
   "metadata": {},
   "source": [
    "# Inspect misclassified examples - training split\n",
    "\n",
    "This notebook gathers all misclassified items from the chosen model and split, joins them with their titles and abstracts, displays an interactive table, and writes a clean PDF report for human review.\n",
    "\n",
    "**Steps**\n",
    "\n",
    "1. Set `MODEL_NAME` if it differs from the default.\n",
    "2. Run all cells from top to bottom.\n",
    "3. The PDF will appear in `outputs/<MODEL_NAME>/train/misclassified/misclassified_report.pdf`.\n",
    "\n",
    "The notebook installs *reportlab* automatically if it is not already present."
   ]
  },
  {
   "cell_type": "code",
   "execution_count": null,
   "id": "67d6be68",
   "metadata": {},
   "outputs": [],
   "source": [
    "# Cell 1 – Imports and package check\n",
    "import subprocess, sys\n",
    "\n",
    "def pip_install(pkg):\n",
    "    try:\n",
    "        __import__(pkg)\n",
    "    except ImportError:\n",
    "        subprocess.check_call([sys.executable, \"-m\", \"pip\", \"install\", pkg])\n",
    "\n",
    "pip_install(\"reportlab\")\n",
    "\n",
    "import json\n",
    "from pathlib import Path\n",
    "import pandas as pd\n",
    "from reportlab.lib.pagesizes import letter\n",
    "from reportlab.platypus import SimpleDocTemplate, Paragraph, Spacer, PageBreak\n",
    "from reportlab.lib.styles import getSampleStyleSheet, ParagraphStyle\n",
    "print(\"Libraries ready\")"
   ]
  },
  {
   "cell_type": "code",
   "execution_count": null,
   "id": "8468cd08",
   "metadata": {},
   "outputs": [],
   "source": [
    "# Cell 2 – Parameters\n",
    "MODEL_NAME = \"gpt-4.1\"   # change if needed\n",
    "SPLIT = \"train\"          # keep as 'train' for this task\n",
    "\n",
    "base_dir = Path(\"outputs\")\n",
    "misclassified_dir = base_dir / MODEL_NAME / SPLIT / \"misclassified\"\n",
    "dataset_path = base_dir / \"datasets\" / f\"{SPLIT}_dataset.csv\"\n",
    "\n",
    "if not misclassified_dir.exists():\n",
    "    raise FileNotFoundError(f\"Folder not found: {misclassified_dir}\")\n",
    "if not dataset_path.exists():\n",
    "    raise FileNotFoundError(f\"Dataset not found: {dataset_path}\")\n",
    "\n",
    "print(\"Misclassified folder:\", misclassified_dir.resolve())\n",
    "print(\"Dataset file:\", dataset_path.resolve())"
   ]
  },
  {
   "cell_type": "code",
   "execution_count": null,
   "id": "e3f0c338",
   "metadata": {},
   "outputs": [],
   "source": [
    "# Cell 3 – Load misclassified JSON files\n",
    "rows = []\n",
    "for fp in misclassified_dir.glob(\"*.json\"):\n",
    "    with open(fp, encoding=\"utf-8\") as f:\n",
    "        data = json.load(f)\n",
    "    rows.append({\n",
    "        \"id\": fp.stem,\n",
    "        \"ground_truth\": data.get(\"ground_truth\"),\n",
    "        \"prediction\": data.get(\"prediction\"),\n",
    "        \"rationale\": data.get(\"rationale\")\n",
    "    })\n",
    "\n",
    "mis_df = pd.DataFrame(rows)\n",
    "print(\"Loaded misclassified rows:\", len(mis_df))"
   ]
  },
  {
   "cell_type": "code",
   "execution_count": null,
   "id": "35bb4a6d",
   "metadata": {},
   "outputs": [],
   "source": [
    "# Cell 4 – Merge with title and abstract\n",
    "dataset_df = pd.read_csv(dataset_path, usecols=[\"id\", \"title\", \"abstract\"])\n",
    "report_df = mis_df.merge(dataset_df, on=\"id\", how=\"left\")\n",
    "missing = report_df[\"abstract\"].isna().sum()\n",
    "if missing:\n",
    "    print(f\"Warning, {missing} abstracts missing after merge\")\n",
    "report_df.head()"
   ]
  },
  {
   "cell_type": "code",
   "execution_count": null,
   "id": "583edf06",
   "metadata": {},
   "outputs": [],
   "source": [
    "# Cell 5 – Optional preview in notebook\n",
    "try:\n",
    "    from ace_tools import display_dataframe_to_user\n",
    "    display_dataframe_to_user(\"Misclassified examples\", report_df)\n",
    "except Exception as e:\n",
    "    print(\"Interactive display not available:\", e)"
   ]
  },
  {
   "cell_type": "code",
   "execution_count": null,
   "id": "19f0fdf6",
   "metadata": {},
   "outputs": [],
   "source": [
    "# Cell 6 – Create PDF report\n",
    "styles = getSampleStyleSheet()\n",
    "normal = styles[\"Normal\"]\n",
    "bold = ParagraphStyle(\"Bold\", parent=normal, fontName=\"Helvetica-Bold\", fontSize=12, spaceAfter=6)\n",
    "\n",
    "output_pdf = misclassified_dir / \"misclassified_report.pdf\"\n",
    "doc = SimpleDocTemplate(str(output_pdf), pagesize=letter,\n",
    "                        leftMargin=40, rightMargin=40, topMargin=40, bottomMargin=40)\n",
    "\n",
    "elements = []\n",
    "for idx, row in report_df.iterrows():\n",
    "    elements.append(Paragraph(f\"Example {idx+1} of {len(report_df)}\", bold))\n",
    "    elements.append(Paragraph(f\"<b>ID:</b> {row['id']}\", normal))\n",
    "    elements.append(Paragraph(f\"<b>Ground truth:</b> {row['ground_truth']}   <b>Prediction:</b> {row['prediction']}\", normal))\n",
    "    elements.append(Paragraph(f\"<b>Rationale:</b> {row['rationale']}\", normal))\n",
    "    elements.append(Spacer(1, 8))\n",
    "    elements.append(Paragraph(f\"<b>Title:</b> {row['title']}\", normal))\n",
    "    elements.append(Spacer(1, 4))\n",
    "    elements.append(Paragraph(f\"<b>Abstract:</b> {row['abstract']}\", normal))\n",
    "    elements.append(PageBreak())\n",
    "\n",
    "doc.build(elements)\n",
    "print(\"PDF saved to:\", output_pdf.resolve())"
   ]
  },
  {
   "cell_type": "code",
   "execution_count": null,
   "id": "e177c3d1",
   "metadata": {},
   "outputs": [],
   "source": []
  }
 ],
 "metadata": {
  "kernelspec": {
   "display_name": ".venv",
   "language": "python",
   "name": "python3"
  },
  "language_info": {
   "codemirror_mode": {
    "name": "ipython",
    "version": 3
   },
   "file_extension": ".py",
   "mimetype": "text/x-python",
   "name": "python",
   "nbconvert_exporter": "python",
   "pygments_lexer": "ipython3",
   "version": "3.10.4"
  }
 },
 "nbformat": 4,
 "nbformat_minor": 5
}
